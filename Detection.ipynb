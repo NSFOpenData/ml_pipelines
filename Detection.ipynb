{
 "cells": [
  {
   "cell_type": "code",
   "execution_count": 1,
   "id": "a64f8fd6",
   "metadata": {},
   "outputs": [],
   "source": [
    "#imports\n",
    "import cv2 \n",
    "import numpy as np\n",
    "from object_detection import ObjectDetection\n",
    "import math"
   ]
  },
  {
   "cell_type": "code",
   "execution_count": null,
   "id": "2dbc3821",
   "metadata": {},
   "outputs": [],
   "source": [
    "#Init Object Detection \n",
    "od = ObjectDetection()"
   ]
  },
  {
   "cell_type": "code",
   "execution_count": null,
   "id": "7b28c2ed",
   "metadata": {},
   "outputs": [],
   "source": [
    "#Start video capture\n",
    "#Replace \"los_angeles.mp4\" with any traffic footage\n",
    "vidCap = cv2.VideoCapture(\"los_angeles.mp4\")\n",
    "\n",
    "frameCount = 0\n",
    "center_pts_prev_frame = []\n",
    "tracking_objs = {}\n",
    "trackId = 0\n",
    "\n",
    "while True: \n",
    "    moreFrames, frame = vidCap.read()\n",
    "    frameCount += 1\n",
    "    if not moreFrames: \n",
    "        break\n",
    "        \n",
    "    center_pts_cur_frame = []\n",
    "        \n",
    "    # Detect objs on each frame \n",
    "    (class_id, scores, boxes) = od.detect(frame)\n",
    "    for box in boxes: \n",
    "        (x, y, w, h) = box\n",
    "        center_x = int((x+x+w)/2)\n",
    "        center_y = int((y+y+h)/2)\n",
    "        center_pts_cur_frame.append((center_x, center_y))\n",
    "        print(\"Frame #\",frameCount,\"Coords: \",x,y,w,h) #prints [x, y, width, height]\n",
    "        \n",
    "        cv2.rectangle(frame, (x, y),(x+w, y+h), (255, 0, 255), 2) #top-left and bottom-right points to draw rectangle\n",
    "    if frameCount <= 2:\n",
    "        print('too early')\n",
    "    else:\n",
    "        center_pts_cur_frame_copy = center_pts_cur_frame.copy()\n",
    "        \n",
    "        for object_id, pt2 in tracking_objs.copy().items():\n",
    "            onScreen = False\n",
    "            \n",
    "            for pt in center_pts_cur_frame_copy:\n",
    "                dist = math.hypot(pt2[0]-pt[0],pt2[1]-pt[1])\n",
    "                #Update obj position \n",
    "                if dist < 20:\n",
    "                    tracking_objs[object_id] = pt\n",
    "                    onScreen = True\n",
    "                    #After position has been assigned do not compare to other objs\n",
    "                    if pt in center_pts_cur_frame: \n",
    "                        center_pts_cur_frame.remove(pt)\n",
    "                        continue \n",
    "            #Remove ID bc car not on screen \n",
    "            if not onScreen: \n",
    "                tracking_objs.pop(object_id)\n",
    "        #Add new IDs as cars are found/initialize IDs\n",
    "        for pt in center_pts_cur_frame:\n",
    "            tracking_objs[trackId] = pt\n",
    "            trackId += 1\n",
    "        \n",
    "            \n",
    "    \n",
    "    for object_id, pt in tracking_objs.items(): \n",
    "        cv2.circle(frame, pt, 3, (0,0,255), -1)\n",
    "        cv2.putText(frame, str(object_id), (pt[0],pt[1]-10),0,1,(0,0,255),2)\n",
    "        \n",
    "        \n",
    "    print('Tracking obs', tracking_objs)\n",
    "    print(\"CUR FRAME\")\n",
    "    print(center_pts_cur_frame)\n",
    "    cv2.imshow(\"Frame\", frame)\n",
    "    \n",
    "    #Making copy of points\n",
    "    center_pts_prev_frame = center_pts_cur_frame.copy()\n",
    "    \n",
    "    key = cv2.waitKey(30)\n",
    "    if key == 27: #'s' key\n",
    "        break\n",
    "cap.release()\n",
    "cap.destroyAllWindows()\n",
    "        "
   ]
  },
  {
   "cell_type": "code",
   "execution_count": null,
   "id": "99e785b5",
   "metadata": {},
   "outputs": [],
   "source": []
  },
  {
   "cell_type": "code",
   "execution_count": null,
   "id": "8a9234f6",
   "metadata": {},
   "outputs": [],
   "source": []
  }
 ],
 "metadata": {
  "kernelspec": {
   "display_name": "Python 3 (ipykernel)",
   "language": "python",
   "name": "python3"
  },
  "language_info": {
   "codemirror_mode": {
    "name": "ipython",
    "version": 3
   },
   "file_extension": ".py",
   "mimetype": "text/x-python",
   "name": "python",
   "nbconvert_exporter": "python",
   "pygments_lexer": "ipython3",
   "version": "3.9.5"
  }
 },
 "nbformat": 4,
 "nbformat_minor": 5
}
